{
  "nbformat": 4,
  "nbformat_minor": 0,
  "metadata": {
    "colab": {
      "provenance": [],
      "authorship_tag": "ABX9TyN8sewRvjGrzGXnKaJYn2rP",
      "include_colab_link": true
    },
    "kernelspec": {
      "name": "python3",
      "display_name": "Python 3"
    },
    "language_info": {
      "name": "python"
    }
  },
  "cells": [
    {
      "cell_type": "markdown",
      "metadata": {
        "id": "view-in-github",
        "colab_type": "text"
      },
      "source": [
        "<a href=\"https://colab.research.google.com/github/JesseSecRoot/JesseSecRoot/blob/main/encryption.ipynb\" target=\"_parent\"><img src=\"https://colab.research.google.com/assets/colab-badge.svg\" alt=\"Open In Colab\"/></a>"
      ]
    },
    {
      "cell_type": "code",
      "execution_count": 1,
      "metadata": {
        "colab": {
          "base_uri": "https://localhost:8080/"
        },
        "id": "S0UFkt4BfGUD",
        "outputId": "71aa88d8-9f3f-4de0-d972-5fa9d11727e7"
      },
      "outputs": [
        {
          "output_type": "stream",
          "name": "stdout",
          "text": [
            "Enter your name: jesse roberts\n",
            "Enter your address: 7555 s little tree willow dr\n",
            "Encrypted name: gAAAAABkIGG0oCs0ANZRdHyBIVPdHwlQQglZSbFSZNgeiWwgnhdVi-gnU_t_WzDMvY88LypcZmAx5J4mf-JbVW8z1AJbbBjPPg==\n",
            "Encrypted address: gAAAAABkIGG0oflTrUGyxA2x7c29Ob5lqfF-kUdcCuBkA-AUz0edYKTl5kHCAmbMS-q3ZJ9txW2C5RM3RvEiz4HWuZKez-5tqA_UTS74JXLOBmQ98R-m86U=\n",
            "Decrypted name: jesse roberts\n",
            "Decrypted address: 7555 s little tree willow dr\n"
          ]
        }
      ],
      "source": [
        "from cryptography.fernet import Fernet\n",
        "\n",
        "# Generate a new encryption key\n",
        "key = Fernet.generate_key()\n",
        "\n",
        "# Create a Fernet object with the key\n",
        "fernet = Fernet(key)\n",
        "\n",
        "# Define a function to encrypt a string\n",
        "def encrypt_string(string):\n",
        "    # Encode the string as bytes\n",
        "    string_bytes = string.encode('utf-8')\n",
        "    # Encrypt the bytes using Fernet\n",
        "    encrypted_bytes = fernet.encrypt(string_bytes)\n",
        "    # Convert the encrypted bytes back to a string and return it\n",
        "    return encrypted_bytes.decode('utf-8')\n",
        "\n",
        "# Define a function to decrypt an encrypted string\n",
        "def decrypt_string(encrypted_string):\n",
        "    # Encode the encrypted string as bytes\n",
        "    encrypted_bytes = encrypted_string.encode('utf-8')\n",
        "    # Decrypt the bytes using Fernet\n",
        "    decrypted_bytes = fernet.decrypt(encrypted_bytes)\n",
        "    # Convert the decrypted bytes back to a string and return it\n",
        "    return decrypted_bytes.decode('utf-8')\n",
        "\n",
        "# Get the user's name and address\n",
        "name = input(\"Enter your name: \")\n",
        "address = input(\"Enter your address: \")\n",
        "\n",
        "# Encrypt the name and address\n",
        "encrypted_name = encrypt_string(name)\n",
        "encrypted_address = encrypt_string(address)\n",
        "\n",
        "# Print the encrypted name and address\n",
        "print(\"Encrypted name:\", encrypted_name)\n",
        "print(\"Encrypted address:\", encrypted_address)\n",
        "\n",
        "# Decrypt the name and address (just to demonstrate the decryption)\n",
        "decrypted_name = decrypt_string(encrypted_name)\n",
        "decrypted_address = decrypt_string(encrypted_address)\n",
        "\n",
        "# Print the decrypted name and address\n",
        "print(\"Decrypted name:\", decrypted_name)\n",
        "print(\"Decrypted address:\", decrypted_address)"
      ]
    }
  ]
}