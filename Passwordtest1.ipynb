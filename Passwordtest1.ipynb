{
  "nbformat": 4,
  "nbformat_minor": 0,
  "metadata": {
    "colab": {
      "provenance": [],
      "authorship_tag": "ABX9TyO9Lrq8wvw296BziJz2suZa",
      "include_colab_link": true
    },
    "kernelspec": {
      "name": "python3",
      "display_name": "Python 3"
    },
    "language_info": {
      "name": "python"
    }
  },
  "cells": [
    {
      "cell_type": "markdown",
      "metadata": {
        "id": "view-in-github",
        "colab_type": "text"
      },
      "source": [
        "<a href=\"https://colab.research.google.com/github/JesseSecRoot/JesseSecRoot/blob/main/Passwordtest1.ipynb\" target=\"_parent\"><img src=\"https://colab.research.google.com/assets/colab-badge.svg\" alt=\"Open In Colab\"/></a>"
      ]
    },
    {
      "cell_type": "code",
      "execution_count": null,
      "metadata": {
        "colab": {
          "base_uri": "https://localhost:8080/"
        },
        "id": "lk3H3YHRfoLl",
        "outputId": "41faea0f-08a1-4564-9421-e1ee1190e6d2"
      },
      "outputs": [
        {
          "output_type": "stream",
          "name": "stdout",
          "text": [
            "Enter a password to test: dogbutt\n",
            "Password is weak\n"
          ]
        }
      ],
      "source": [
        "import re\n",
        "\n",
        "def password_strength(password):\n",
        "    score = 0\n",
        "    \n",
        "    # check length of password\n",
        "    if len(password) >= 8:\n",
        "        score += 1\n",
        "    \n",
        "    # check for uppercase letters\n",
        "    if re.search('[A-Z]', password):\n",
        "        score += 1\n",
        "        \n",
        "    # check for lowercase letters\n",
        "    if re.search('[a-z]', password):\n",
        "        score += 1\n",
        "    \n",
        "    # check for numbers\n",
        "    if re.search('[0-9]', password):\n",
        "        score += 1\n",
        "    \n",
        "    # check for special characters\n",
        "    if re.search('[^A-Za-z0-9]', password):\n",
        "        score += 1\n",
        "    \n",
        "    # check for common words and patterns\n",
        "    common_passwords = ['password', '123456', 'qwerty', 'admin', 'letmein']\n",
        "    if password.lower() not in common_passwords:\n",
        "        score += 1\n",
        "    \n",
        "    # interpret score and give feedback\n",
        "    if score == 0:\n",
        "        return 'Password is very very weak'\n",
        "    elif score == 1:\n",
        "        return 'Password is very weak'\n",
        "    elif score == 2:\n",
        "        return 'Password is weak'\n",
        "    elif score == 3:\n",
        "        return 'Password is strong'\n",
        "    elif score == 4:\n",
        "        return 'Password is very strong'\n",
        "    else:\n",
        "        return 'Password is extremely strong'\n",
        "\n",
        "# example usage\n",
        "password = input('Enter a password to test: ')\n",
        "print(password_strength(password))\n"
      ]
    }
  ]
}